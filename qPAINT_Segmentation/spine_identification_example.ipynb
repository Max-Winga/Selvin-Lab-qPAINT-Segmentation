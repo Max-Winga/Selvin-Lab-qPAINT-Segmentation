{
 "cells": [
  {
   "cell_type": "code",
   "execution_count": 1,
   "metadata": {},
   "outputs": [],
   "source": [
    "from spine_identification import locate_spines, save_spine_data\n",
    "from matplotlib import pyplot as plt\n",
    "import json\n",
    "import os\n",
    "import numpy as np"
   ]
  },
  {
   "cell_type": "code",
   "execution_count": 2,
   "metadata": {},
   "outputs": [
    {
     "name": "stdout",
     "output_type": "stream",
     "text": [
      "1/1 [==============================] - 2s 2s/step\n",
      "Found model '2D_versatile_fluo' for 'StarDist2D'.\n",
      "Loading network weights from 'weights_best.h5'.\n",
      "Loading thresholds from 'thresholds.json'.\n",
      "Using default values: prob_thresh=0.479071, nms_thresh=0.3.\n"
     ]
    }
   ],
   "source": [
    "deepd3_path = 'DeepD3_32F.h5'\n",
    "life_act_path = '../Examples/A1_Composite.tif'\n",
    "deepd3_scale = (512, 512)\n",
    "life_act_threshold = 200\n",
    "pred_thresh = 0.2\n",
    "\n",
    "starplane, labels_roi = locate_spines(deepd3_path, life_act_path, deepd3_scale, \n",
    "                                      life_act_threshold, pred_thresh)"
   ]
  },
  {
   "cell_type": "code",
   "execution_count": 3,
   "metadata": {},
   "outputs": [
    {
     "name": "stdout",
     "output_type": "stream",
     "text": [
      "Spine data saved successfully.\n",
      "Starplane file: ../Outputs/A1_spines_starplane.npy\n",
      "Labels ROI file: ../Outputs/A1_spines_labels_roi.json\n"
     ]
    }
   ],
   "source": [
    "output_dir = '../Outputs/'\n",
    "filename = 'A1_spines'\n",
    "save_spine_data(starplane, labels_roi, output_dir, filename)"
   ]
  }
 ],
 "metadata": {
  "kernelspec": {
   "display_name": "deepd3",
   "language": "python",
   "name": "python3"
  },
  "language_info": {
   "codemirror_mode": {
    "name": "ipython",
    "version": 3
   },
   "file_extension": ".py",
   "mimetype": "text/x-python",
   "name": "python",
   "nbconvert_exporter": "python",
   "pygments_lexer": "ipython3",
   "version": "3.7.16"
  }
 },
 "nbformat": 4,
 "nbformat_minor": 2
}
