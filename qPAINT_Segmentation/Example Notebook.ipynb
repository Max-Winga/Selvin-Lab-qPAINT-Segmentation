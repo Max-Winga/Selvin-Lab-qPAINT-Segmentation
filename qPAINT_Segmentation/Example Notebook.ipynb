{
 "cells": [
  {
   "cell_type": "code",
   "execution_count": 1,
   "id": "0b104f3a",
   "metadata": {
    "ExecuteTime": {
     "end_time": "2023-05-25T17:27:15.942152Z",
     "start_time": "2023-05-25T17:27:15.931154Z"
    },
    "init_cell": true
   },
   "outputs": [],
   "source": [
    "from field_of_view import FieldOfView\n",
    "from clusters import ClusterParam, Cluster\n",
    "\n",
    "import numpy as np\n",
    "from matplotlib import pyplot as plt"
   ]
  },
  {
   "cell_type": "code",
   "execution_count": 2,
   "id": "7ef511ef",
   "metadata": {},
   "outputs": [],
   "source": [
    "nm_per_pixel = 21.34\n",
    "time_per_frame = 0.1\n",
    "Tau_D_GluA1 = 150.32\n",
    "Tau_D_GluA2 = 97\n",
    "background_threshold = 500\n",
    "homer_path = '../Examples/A1_aHomer_corrected.csv'\n",
    "life_act_path = '../Examples/A1_Composite.tif'\n",
    "deepd3_path = 'DeepD3_32F.h5'\n",
    "points = [['GluA1', r'../Examples/A1_GluA1_corrected.csv', 'white', time_per_frame, Tau_D_GluA1],\n",
    "          ['GluA2', r'../Examples/A1_GluA2_corrected.csv', 'cyan', time_per_frame, Tau_D_GluA2]]\n",
    "Params = [ClusterParam(1.5, 5, 15, 60, 'GluA1')]\n"
   ]
  },
  {
   "cell_type": "code",
   "execution_count": 3,
   "id": "01b612a3",
   "metadata": {},
   "outputs": [
    {
     "name": "stdout",
     "output_type": "stream",
     "text": [
      "Loading Life Act...\n",
      "Setting up Thresholding...\n",
      "1/1 [==============================] - 2s 2s/step\n",
      "Found model '2D_versatile_fluo' for 'StarDist2D'.\n",
      "Loading network weights from 'weights_best.h5'.\n",
      "Loading thresholds from 'thresholds.json'.\n",
      "Using default values: prob_thresh=0.479071, nms_thresh=0.3.\n",
      "Loading Homer Centers...\n",
      "Loading GluA1...\n",
      "Loading GluA2...\n"
     ]
    },
    {
     "ename": "TypeError",
     "evalue": "find_clusters() got an unexpected keyword argument 'plot_clusters'",
     "output_type": "error",
     "traceback": [
      "\u001b[1;31m---------------------------------------------------------------------------\u001b[0m",
      "\u001b[1;31mTypeError\u001b[0m                                 Traceback (most recent call last)",
      "Cell \u001b[1;32mIn[3], line 1\u001b[0m\n\u001b[1;32m----> 1\u001b[0m FOV_A \u001b[38;5;241m=\u001b[39m \u001b[43mFieldOfView\u001b[49m\u001b[43m(\u001b[49m\u001b[43mhomer_centers\u001b[49m\u001b[38;5;241;43m=\u001b[39;49m\u001b[43mhomer_path\u001b[49m\u001b[43m,\u001b[49m\u001b[43m \u001b[49m\n\u001b[0;32m      2\u001b[0m \u001b[43m                    \u001b[49m\u001b[43mlife_act\u001b[49m\u001b[38;5;241;43m=\u001b[39;49m\u001b[43mlife_act_path\u001b[49m\u001b[43m,\u001b[49m\u001b[43m \u001b[49m\n\u001b[0;32m      3\u001b[0m \u001b[43m                    \u001b[49m\u001b[43mnm_per_pixel\u001b[49m\u001b[38;5;241;43m=\u001b[39;49m\u001b[43mnm_per_pixel\u001b[49m\u001b[43m,\u001b[49m\n\u001b[0;32m      4\u001b[0m \u001b[43m                    \u001b[49m\u001b[43mpoints\u001b[49m\u001b[38;5;241;43m=\u001b[39;49m\u001b[43mpoints\u001b[49m\u001b[43m,\u001b[49m\u001b[43m \u001b[49m\n\u001b[0;32m      5\u001b[0m \u001b[43m                    \u001b[49m\u001b[43mParams\u001b[49m\u001b[38;5;241;43m=\u001b[39;49m\u001b[43mParams\u001b[49m\u001b[43m,\u001b[49m\u001b[43m \u001b[49m\n\u001b[0;32m      6\u001b[0m \u001b[43m                    \u001b[49m\u001b[43mthreshold\u001b[49m\u001b[38;5;241;43m=\u001b[39;49m\u001b[43mbackground_threshold\u001b[49m\u001b[43m,\u001b[49m\n\u001b[0;32m      7\u001b[0m \u001b[43m                    \u001b[49m\u001b[43mdeepd3_model_path\u001b[49m\u001b[38;5;241;43m=\u001b[39;49m\u001b[43mdeepd3_path\u001b[49m\u001b[43m,\u001b[49m\n\u001b[0;32m      8\u001b[0m \u001b[43m                    \u001b[49m\u001b[43mdeepd3_pred_thresh\u001b[49m\u001b[38;5;241;43m=\u001b[39;49m\u001b[38;5;241;43m0.3\u001b[39;49m\u001b[43m,\u001b[49m\n\u001b[0;32m      9\u001b[0m \u001b[43m                    \u001b[49m\u001b[43mplot_clusters\u001b[49m\u001b[38;5;241;43m=\u001b[39;49m\u001b[38;5;28;43;01mTrue\u001b[39;49;00m\u001b[43m)\u001b[49m\n",
      "File \u001b[1;32mc:\\Users\\mwinga2\\OneDrive - University of Illinois - Urbana\\Desktop\\Code\\Selvin-Lab-qPAINT-Segmentation\\qPAINT_Segmentation\\field_of_view.py:111\u001b[0m, in \u001b[0;36mFieldOfView.__init__\u001b[1;34m(self, homer_centers, life_act, nm_per_pixel, points, Params, threshold, deepd3_model_path, deepd3_scale, deepd3_pred_thresh, to_print, plot_clusters)\u001b[0m\n\u001b[0;32m    109\u001b[0m \u001b[38;5;28mself\u001b[39m\u001b[38;5;241m.\u001b[39mParams \u001b[38;5;241m=\u001b[39m []\n\u001b[0;32m    110\u001b[0m \u001b[38;5;28mself\u001b[39m\u001b[38;5;241m.\u001b[39mclustering_results \u001b[38;5;241m=\u001b[39m {}\n\u001b[1;32m--> 111\u001b[0m \u001b[38;5;28;43mself\u001b[39;49m\u001b[38;5;241;43m.\u001b[39;49m\u001b[43madd_params\u001b[49m\u001b[43m(\u001b[49m\u001b[43mParams\u001b[49m\u001b[43m,\u001b[49m\u001b[43m \u001b[49m\u001b[43mto_print\u001b[49m\u001b[43m,\u001b[49m\u001b[43m \u001b[49m\u001b[43mplot_clusters\u001b[49m\u001b[43m)\u001b[49m\n\u001b[0;32m    112\u001b[0m \u001b[38;5;28mself\u001b[39m\u001b[38;5;241m.\u001b[39massign_clusters_to_spines()\n\u001b[0;32m    114\u001b[0m \u001b[38;5;66;03m# Remove spines without homer or clusters\u001b[39;00m\n",
      "File \u001b[1;32mc:\\Users\\mwinga2\\OneDrive - University of Illinois - Urbana\\Desktop\\Code\\Selvin-Lab-qPAINT-Segmentation\\qPAINT_Segmentation\\field_of_view.py:546\u001b[0m, in \u001b[0;36mFieldOfView.add_params\u001b[1;34m(self, Params, to_print, plot_clusters)\u001b[0m\n\u001b[0;32m    544\u001b[0m     Params \u001b[38;5;241m=\u001b[39m [Params]\n\u001b[0;32m    545\u001b[0m \u001b[38;5;28;01mfor\u001b[39;00m Param \u001b[38;5;129;01min\u001b[39;00m Params:\n\u001b[1;32m--> 546\u001b[0m     \u001b[38;5;28;43mself\u001b[39;49m\u001b[38;5;241;43m.\u001b[39;49m\u001b[43mfind_clusters\u001b[49m\u001b[43m(\u001b[49m\u001b[43mParam\u001b[49m\u001b[43m,\u001b[49m\u001b[43m \u001b[49m\u001b[43mto_print\u001b[49m\u001b[38;5;241;43m=\u001b[39;49m\u001b[43mto_print\u001b[49m\u001b[43m,\u001b[49m\u001b[43m \u001b[49m\u001b[43mplot_clusters\u001b[49m\u001b[38;5;241;43m=\u001b[39;49m\u001b[43mplot_clusters\u001b[49m\u001b[43m)\u001b[49m\n",
      "\u001b[1;31mTypeError\u001b[0m: find_clusters() got an unexpected keyword argument 'plot_clusters'"
     ]
    }
   ],
   "source": [
    "FOV_A = FieldOfView(homer_centers=homer_path, \n",
    "                    life_act=life_act_path, \n",
    "                    nm_per_pixel=nm_per_pixel,\n",
    "                    points=points, \n",
    "                    Params=Params, \n",
    "                    threshold=background_threshold,\n",
    "                    deepd3_model_path=deepd3_path,\n",
    "                    deepd3_pred_thresh=0.3,\n",
    "                    to_plot=True)"
   ]
  },
  {
   "cell_type": "code",
   "execution_count": null,
   "id": "e6777abc",
   "metadata": {},
   "outputs": [],
   "source": [
    "print(FOV_A.clustering_results[Params[0]])"
   ]
  },
  {
   "cell_type": "code",
   "execution_count": null,
   "id": "b41212db",
   "metadata": {},
   "outputs": [],
   "source": [
    "for cluster in FOV_A.clustering_results[Params[0]]:\n",
    "    if cluster.spine != -1:\n",
    "        print(cluster.spine)"
   ]
  },
  {
   "cell_type": "code",
   "execution_count": null,
   "id": "c5ccdede",
   "metadata": {},
   "outputs": [],
   "source": [
    "FOV_A.clustering_results[Params[0]][0].plot()"
   ]
  },
  {
   "cell_type": "code",
   "execution_count": null,
   "id": "0e0c1552",
   "metadata": {},
   "outputs": [],
   "source": [
    "plt.figure(dpi=1000)\n",
    "plt.imshow(FOV_A.life_act, cmap='gray')\n",
    "for cluster in FOV_A.clustering_results[Params[0]]:\n",
    "    cluster.add_to_plot()\n",
    "FOV_A.Points[1].add_to_plot(s=0.01)\n",
    "plt.imshow(FOV_A.spinemap, alpha=0.3, cmap='magma')\n",
    "plt.show()"
   ]
  },
  {
   "cell_type": "code",
   "execution_count": null,
   "id": "3ddb53d0",
   "metadata": {},
   "outputs": [],
   "source": [
    "max_dark_time = 5000\n",
    "\n",
    "sizes = FOV_A.get_all_cluster_sizes(Params[0], max_dark_time)\n",
    "# print(sizes)\n",
    "print(len(sizes))\n",
    "areas = FOV_A.get_all_cluster_areas(Params[0], max_dark_time)\n",
    "# print(areas)\n",
    "print(len(areas))\n",
    "densities = FOV_A.get_all_cluster_densities(Params[0], max_dark_time)\n",
    "# print(densities)\n",
    "print(len(densities))\n",
    "distances_to_homer = FOV_A.get_all_distances_to_homer(Params[0], max_dark_time)\n",
    "# print(distances_to_homer)\n",
    "print(len(distances_to_homer))"
   ]
  },
  {
   "cell_type": "code",
   "execution_count": 9,
   "id": "6afa63d9",
   "metadata": {},
   "outputs": [],
   "source": [
    "def moving_average(x, y, window_size):\n",
    "    \"\"\"\n",
    "    Calculate the moving average of the y-values, using a given window size.\n",
    "    \"\"\"\n",
    "    # Sort x and y by x-values\n",
    "    sorted_indices = np.argsort(x)\n",
    "    x_sorted = x[sorted_indices]\n",
    "    y_sorted = y[sorted_indices]\n",
    "\n",
    "    # Compute moving averages\n",
    "    moving_averages = []\n",
    "    moving_averages_x = []\n",
    "\n",
    "    # Use a deque (double-ended queue) to store the values in the current window\n",
    "    from collections import deque\n",
    "    window = deque(maxlen=window_size)  # Only holds `window_size` number of elements\n",
    "\n",
    "    # Use the index of the sorted x-values to iterate and calculate the moving average\n",
    "    for i in range(len(x_sorted)):\n",
    "        # Append the next y-value to the window\n",
    "        window.append(y_sorted[i])\n",
    "\n",
    "        # Calculate the mean of the current window\n",
    "        window_mean = np.mean(window)\n",
    "\n",
    "        # Store the moving average and corresponding x-value\n",
    "        moving_averages.append(window_mean)\n",
    "        moving_averages_x.append(x_sorted[i])\n",
    "\n",
    "    return moving_averages_x, moving_averages"
   ]
  },
  {
   "cell_type": "code",
   "execution_count": null,
   "id": "696c1231",
   "metadata": {},
   "outputs": [],
   "source": [
    "from matplotlib import pyplot as plt\n",
    "distances_to_homer = FOV_A.get_all_distances_to_homer(Params[0], max_dark_time)\n",
    "densities = FOV_A.get_all_cluster_densities(Params[0], max_dark_time)\n",
    "\n",
    "greatest_density = 1000\n",
    "distances_to_homer = [distances_to_homer[i] for i in range(len(distances_to_homer)) if densities[i] < greatest_density]\n",
    "densities = [densities[i] for i in range(len(densities)) if densities[i] < greatest_density]\n",
    "\n",
    "window = 50\n",
    "average_distances, average_densities = moving_average(np.array(distances_to_homer), np.array(densities), window)\n",
    "\n",
    "plt.figure()\n",
    "plt.scatter(distances_to_homer, densities)\n",
    "plt.plot(average_distances, average_densities, color='r', linestyle='-', linewidth=2)  # Plot the moving average line\n",
    "plt.ylabel(\"Cluster Density subunits/micron^2\")\n",
    "plt.xlabel(\"Distance from Homer (nm)\")\n",
    "plt.show()"
   ]
  },
  {
   "cell_type": "code",
   "execution_count": null,
   "id": "02eda240",
   "metadata": {},
   "outputs": [],
   "source": [
    "plt.imshow(FOV_A.life_act)"
   ]
  },
  {
   "cell_type": "code",
   "execution_count": null,
   "id": "cc245d6c",
   "metadata": {},
   "outputs": [],
   "source": [
    "FOV_A.write_clusters_to_csv(filename=\"Cluster.csv\", Tau_D=97, \n",
    "                            Params=Params, max_dark_time=500)"
   ]
  }
 ],
 "metadata": {
  "celltoolbar": "Initialization Cell",
  "kernelspec": {
   "display_name": "Python 3 (ipykernel)",
   "language": "python",
   "name": "python3"
  },
  "language_info": {
   "codemirror_mode": {
    "name": "ipython",
    "version": 3
   },
   "file_extension": ".py",
   "mimetype": "text/x-python",
   "name": "python",
   "nbconvert_exporter": "python",
   "pygments_lexer": "ipython3",
   "version": "3.8.18"
  },
  "toc": {
   "base_numbering": 1,
   "nav_menu": {},
   "number_sections": true,
   "sideBar": true,
   "skip_h1_title": false,
   "title_cell": "Table of Contents",
   "title_sidebar": "Contents",
   "toc_cell": false,
   "toc_position": {},
   "toc_section_display": true,
   "toc_window_display": false
  },
  "varInspector": {
   "cols": {
    "lenName": 16,
    "lenType": 16,
    "lenVar": 40
   },
   "kernels_config": {
    "python": {
     "delete_cmd_postfix": "",
     "delete_cmd_prefix": "del ",
     "library": "var_list.py",
     "varRefreshCmd": "print(var_dic_list())"
    },
    "r": {
     "delete_cmd_postfix": ") ",
     "delete_cmd_prefix": "rm(",
     "library": "var_list.r",
     "varRefreshCmd": "cat(var_dic_list()) "
    }
   },
   "types_to_exclude": [
    "module",
    "function",
    "builtin_function_or_method",
    "instance",
    "_Feature"
   ],
   "window_display": false
  }
 },
 "nbformat": 4,
 "nbformat_minor": 5
}
