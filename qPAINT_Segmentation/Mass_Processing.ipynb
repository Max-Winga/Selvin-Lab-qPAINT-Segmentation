{
 "cells": [
  {
   "cell_type": "code",
   "execution_count": 1,
   "id": "0b104f3a",
   "metadata": {
    "ExecuteTime": {
     "end_time": "2023-05-25T17:27:15.942152Z",
     "start_time": "2023-05-25T17:27:15.931154Z"
    },
    "init_cell": true
   },
   "outputs": [],
   "source": [
    "from field_of_view import FieldOfView\n",
    "from clusters import Cluster\n",
    "from cluster_algorithms import ClusteringAlgorithm, kmeans_function_generator, hdbscan_function_generator, nth_neighbor_hdbscan_function_generator\n",
    "from plot_helpers import moving_average, plot_scale_bar\n",
    "\n",
    "import numpy as np\n",
    "from matplotlib import pyplot as plt\n",
    "from scipy.spatial import KDTree\n",
    "from scipy.cluster.vq import kmeans, vq\n",
    "\n",
    "import os"
   ]
  },
  {
   "cell_type": "code",
   "execution_count": 2,
   "id": "7ef511ef",
   "metadata": {},
   "outputs": [],
   "source": [
    "nm_per_pixel = 21.34\n",
    "time_per_frame = 0.1\n",
    "\n",
    "# cluster_algorithms = [ClusteringAlgorithm(kmeans_function_generator(30, 70/nm_per_pixel, 30), 'GluA2'),\n",
    "#                       ClusteringAlgorithm(hdbscan_function_generator(10, 10, 0), 'GluA2'),\n",
    "#                       ClusteringAlgorithm(hdbscan_function_generator(20, 10, 0), 'GluA2')]\n"
   ]
  },
  {
   "cell_type": "code",
   "execution_count": 7,
   "id": "856cd996",
   "metadata": {},
   "outputs": [
    {
     "name": "stdout",
     "output_type": "stream",
     "text": [
      "Loading Life Act...\n",
      "Loading Starplane and Labels ROI...\n",
      "Creating Spines from Starplane...\n",
      "Loading Homer Centers...\n",
      "Loading GluA1...\n",
      "Assigning Points to Spines...\n",
      "Starting clustering...\n"
     ]
    },
    {
     "name": "stderr",
     "output_type": "stream",
     "text": [
      "Clustering progress: 100%|██████████| 220/220 [00:00<00:00, 317.43spine/s]\n"
     ]
    },
    {
     "name": "stdout",
     "output_type": "stream",
     "text": [
      "Clustering completed.\n",
      "Filtered 55 Spines, Finding 2 Good Spines\n",
      "Loading Life Act...\n",
      "Loading Starplane and Labels ROI...\n",
      "Creating Spines from Starplane...\n",
      "Loading Homer Centers...\n",
      "Loading GluA1...\n",
      "Assigning Points to Spines...\n",
      "Starting clustering...\n"
     ]
    },
    {
     "name": "stderr",
     "output_type": "stream",
     "text": [
      "Clustering progress: 100%|██████████| 96/96 [00:00<00:00, 440.00spine/s]\n"
     ]
    },
    {
     "name": "stdout",
     "output_type": "stream",
     "text": [
      "Clustering completed.\n",
      "Filtered 24 Spines, Finding 0 Good Spines\n",
      "Loading Life Act...\n",
      "Loading Starplane and Labels ROI...\n",
      "Creating Spines from Starplane...\n",
      "Loading Homer Centers...\n",
      "Loading GluA1...\n",
      "Assigning Points to Spines...\n",
      "Starting clustering...\n"
     ]
    },
    {
     "name": "stderr",
     "output_type": "stream",
     "text": [
      "Clustering progress: 100%|██████████| 200/200 [00:00<00:00, 506.78spine/s]\n"
     ]
    },
    {
     "name": "stdout",
     "output_type": "stream",
     "text": [
      "Clustering completed.\n",
      "Filtered 50 Spines, Finding 0 Good Spines\n",
      "Loading Life Act...\n",
      "Loading Starplane and Labels ROI...\n",
      "Creating Spines from Starplane...\n",
      "Loading Homer Centers...\n",
      "Loading GluA1...\n",
      "Assigning Points to Spines...\n",
      "Starting clustering...\n"
     ]
    },
    {
     "name": "stderr",
     "output_type": "stream",
     "text": [
      "Clustering progress: 100%|██████████| 228/228 [00:01<00:00, 227.86spine/s]\n"
     ]
    },
    {
     "name": "stdout",
     "output_type": "stream",
     "text": [
      "Clustering completed.\n",
      "Filtered 57 Spines, Finding 8 Good Spines\n",
      "Loading Life Act...\n",
      "Loading Starplane and Labels ROI...\n",
      "Creating Spines from Starplane...\n",
      "Loading Homer Centers...\n",
      "Loading GluA1...\n",
      "Assigning Points to Spines...\n",
      "Starting clustering...\n"
     ]
    },
    {
     "name": "stderr",
     "output_type": "stream",
     "text": [
      "Clustering progress: 100%|██████████| 180/180 [00:00<00:00, 197.44spine/s]\n"
     ]
    },
    {
     "name": "stdout",
     "output_type": "stream",
     "text": [
      "Clustering completed.\n",
      "Filtered 45 Spines, Finding 6 Good Spines\n",
      "Loading Life Act...\n",
      "Loading Starplane and Labels ROI...\n",
      "Creating Spines from Starplane...\n",
      "Loading Homer Centers...\n",
      "Loading GluA1...\n",
      "Assigning Points to Spines...\n",
      "Starting clustering...\n"
     ]
    },
    {
     "name": "stderr",
     "output_type": "stream",
     "text": [
      "Clustering progress: 100%|██████████| 268/268 [00:00<00:00, 347.69spine/s]\n"
     ]
    },
    {
     "name": "stdout",
     "output_type": "stream",
     "text": [
      "Clustering completed.\n",
      "Filtered 67 Spines, Finding 0 Good Spines\n",
      "Loading Life Act...\n",
      "Loading Starplane and Labels ROI...\n",
      "Creating Spines from Starplane...\n",
      "Loading Homer Centers...\n",
      "Loading GluA1...\n",
      "Assigning Points to Spines...\n",
      "Starting clustering...\n"
     ]
    },
    {
     "name": "stderr",
     "output_type": "stream",
     "text": [
      "Clustering progress: 100%|██████████| 300/300 [00:01<00:00, 210.35spine/s]\n"
     ]
    },
    {
     "name": "stdout",
     "output_type": "stream",
     "text": [
      "Clustering completed.\n",
      "Filtered 75 Spines, Finding 11 Good Spines\n",
      "Loading Life Act...\n",
      "Loading Starplane and Labels ROI...\n",
      "Creating Spines from Starplane...\n",
      "Loading Homer Centers...\n",
      "Loading GluA2...\n",
      "Assigning Points to Spines...\n",
      "Starting clustering...\n"
     ]
    },
    {
     "name": "stderr",
     "output_type": "stream",
     "text": [
      "Clustering progress: 100%|██████████| 184/184 [00:01<00:00, 156.68spine/s]\n"
     ]
    },
    {
     "name": "stdout",
     "output_type": "stream",
     "text": [
      "Clustering completed.\n",
      "Filtered 46 Spines, Finding 7 Good Spines\n",
      "Loading Life Act...\n",
      "Loading Starplane and Labels ROI...\n",
      "Creating Spines from Starplane...\n",
      "Loading Homer Centers...\n",
      "Loading GluA2...\n",
      "Assigning Points to Spines...\n",
      "Starting clustering...\n"
     ]
    },
    {
     "name": "stderr",
     "output_type": "stream",
     "text": [
      "Clustering progress: 100%|██████████| 236/236 [00:01<00:00, 218.55spine/s]\n"
     ]
    },
    {
     "name": "stdout",
     "output_type": "stream",
     "text": [
      "Clustering completed.\n",
      "Filtered 59 Spines, Finding 12 Good Spines\n",
      "Loading Life Act...\n",
      "Loading Starplane and Labels ROI...\n",
      "Creating Spines from Starplane...\n",
      "Loading Homer Centers...\n",
      "Loading GluA2...\n",
      "Assigning Points to Spines...\n",
      "Starting clustering...\n"
     ]
    },
    {
     "name": "stderr",
     "output_type": "stream",
     "text": [
      "Clustering progress: 100%|██████████| 188/188 [00:00<00:00, 212.66spine/s]\n"
     ]
    },
    {
     "name": "stdout",
     "output_type": "stream",
     "text": [
      "Clustering completed.\n",
      "Filtered 47 Spines, Finding 2 Good Spines\n",
      "Loading Life Act...\n",
      "Loading Starplane and Labels ROI...\n",
      "Creating Spines from Starplane...\n",
      "Loading Homer Centers...\n",
      "Loading GluA2...\n",
      "Assigning Points to Spines...\n",
      "Starting clustering...\n"
     ]
    },
    {
     "name": "stderr",
     "output_type": "stream",
     "text": [
      "Clustering progress: 100%|██████████| 288/288 [00:01<00:00, 174.46spine/s]\n"
     ]
    },
    {
     "name": "stdout",
     "output_type": "stream",
     "text": [
      "Clustering completed.\n",
      "Filtered 72 Spines, Finding 25 Good Spines\n",
      "Loading Life Act...\n",
      "Loading Starplane and Labels ROI...\n",
      "Creating Spines from Starplane...\n",
      "Loading Homer Centers...\n",
      "Loading GluA2...\n",
      "Assigning Points to Spines...\n",
      "Starting clustering...\n"
     ]
    },
    {
     "name": "stderr",
     "output_type": "stream",
     "text": [
      "Clustering progress: 100%|██████████| 296/296 [00:00<00:00, 522.91spine/s]\n"
     ]
    },
    {
     "name": "stdout",
     "output_type": "stream",
     "text": [
      "Clustering completed.\n",
      "Filtered 74 Spines, Finding 1 Good Spines\n",
      "Loading Life Act...\n",
      "Loading Starplane and Labels ROI...\n",
      "Creating Spines from Starplane...\n",
      "Loading Homer Centers...\n",
      "Loading GluA2...\n",
      "Assigning Points to Spines...\n",
      "Starting clustering...\n"
     ]
    },
    {
     "name": "stderr",
     "output_type": "stream",
     "text": [
      "Clustering progress: 100%|██████████| 232/232 [00:00<00:00, 244.78spine/s]\n"
     ]
    },
    {
     "name": "stdout",
     "output_type": "stream",
     "text": [
      "Clustering completed.\n",
      "Filtered 58 Spines, Finding 11 Good Spines\n",
      "Loading Life Act...\n",
      "Loading Starplane and Labels ROI...\n",
      "Creating Spines from Starplane...\n",
      "Loading Homer Centers...\n",
      "Loading GluA1...\n",
      "Assigning Points to Spines...\n",
      "Starting clustering...\n"
     ]
    },
    {
     "name": "stderr",
     "output_type": "stream",
     "text": [
      "Clustering progress: 100%|██████████| 184/184 [00:00<00:00, 273.31spine/s]\n"
     ]
    },
    {
     "name": "stdout",
     "output_type": "stream",
     "text": [
      "Clustering completed.\n",
      "Filtered 46 Spines, Finding 2 Good Spines\n",
      "Loading Life Act...\n",
      "Loading Starplane and Labels ROI...\n",
      "Creating Spines from Starplane...\n",
      "Loading Homer Centers...\n",
      "Loading GluA1...\n",
      "Assigning Points to Spines...\n",
      "Starting clustering...\n"
     ]
    },
    {
     "name": "stderr",
     "output_type": "stream",
     "text": [
      "Clustering progress: 100%|██████████| 236/236 [00:00<00:00, 279.02spine/s]\n"
     ]
    },
    {
     "name": "stdout",
     "output_type": "stream",
     "text": [
      "Clustering completed.\n",
      "Filtered 59 Spines, Finding 3 Good Spines\n",
      "Loading Life Act...\n",
      "Loading Starplane and Labels ROI...\n",
      "Creating Spines from Starplane...\n",
      "Loading Homer Centers...\n",
      "Loading GluA1...\n",
      "Assigning Points to Spines...\n",
      "Starting clustering...\n"
     ]
    },
    {
     "name": "stderr",
     "output_type": "stream",
     "text": [
      "Clustering progress: 100%|██████████| 188/188 [00:00<00:00, 433.54spine/s]\n"
     ]
    },
    {
     "name": "stdout",
     "output_type": "stream",
     "text": [
      "Clustering completed.\n",
      "Filtered 47 Spines, Finding 0 Good Spines\n",
      "Loading Life Act...\n",
      "Loading Starplane and Labels ROI...\n",
      "Creating Spines from Starplane...\n",
      "Loading Homer Centers...\n",
      "Loading GluA1...\n",
      "Assigning Points to Spines...\n",
      "Starting clustering...\n"
     ]
    },
    {
     "name": "stderr",
     "output_type": "stream",
     "text": [
      "Clustering progress: 100%|██████████| 288/288 [00:00<00:00, 372.43spine/s]\n"
     ]
    },
    {
     "name": "stdout",
     "output_type": "stream",
     "text": [
      "Clustering completed.\n",
      "Filtered 72 Spines, Finding 8 Good Spines\n",
      "Loading Life Act...\n",
      "Loading Starplane and Labels ROI...\n",
      "Creating Spines from Starplane...\n",
      "Loading Homer Centers...\n",
      "Loading GluA1...\n",
      "Assigning Points to Spines...\n",
      "Starting clustering...\n"
     ]
    },
    {
     "name": "stderr",
     "output_type": "stream",
     "text": [
      "Clustering progress: 100%|██████████| 296/296 [00:01<00:00, 246.36spine/s]\n"
     ]
    },
    {
     "name": "stdout",
     "output_type": "stream",
     "text": [
      "Clustering completed.\n",
      "Filtered 74 Spines, Finding 16 Good Spines\n",
      "Loading Life Act...\n",
      "Loading Starplane and Labels ROI...\n",
      "Creating Spines from Starplane...\n",
      "Loading Homer Centers...\n",
      "Loading GluA1...\n",
      "Assigning Points to Spines...\n",
      "Starting clustering...\n"
     ]
    },
    {
     "name": "stderr",
     "output_type": "stream",
     "text": [
      "Clustering progress: 100%|██████████| 232/232 [00:01<00:00, 170.31spine/s]\n"
     ]
    },
    {
     "name": "stdout",
     "output_type": "stream",
     "text": [
      "Clustering completed.\n",
      "Filtered 58 Spines, Finding 14 Good Spines\n",
      "Loading Life Act...\n",
      "Loading Starplane and Labels ROI...\n",
      "Creating Spines from Starplane...\n",
      "Loading Homer Centers...\n",
      "Loading GluA2...\n",
      "Assigning Points to Spines...\n",
      "Starting clustering...\n"
     ]
    },
    {
     "name": "stderr",
     "output_type": "stream",
     "text": [
      "Clustering progress: 100%|██████████| 220/220 [00:01<00:00, 142.68spine/s]\n"
     ]
    },
    {
     "name": "stdout",
     "output_type": "stream",
     "text": [
      "Clustering completed.\n",
      "Filtered 55 Spines, Finding 7 Good Spines\n",
      "Loading Life Act...\n",
      "Loading Starplane and Labels ROI...\n",
      "Creating Spines from Starplane...\n",
      "Loading Homer Centers...\n",
      "Loading GluA2...\n",
      "Assigning Points to Spines...\n",
      "Starting clustering...\n"
     ]
    },
    {
     "name": "stderr",
     "output_type": "stream",
     "text": [
      "Clustering progress: 100%|██████████| 96/96 [00:02<00:00, 36.83spine/s]\n"
     ]
    },
    {
     "name": "stdout",
     "output_type": "stream",
     "text": [
      "Clustering completed.\n",
      "Filtered 24 Spines, Finding 0 Good Spines\n",
      "Loading Life Act...\n",
      "Loading Starplane and Labels ROI...\n",
      "Creating Spines from Starplane...\n",
      "Loading Homer Centers...\n",
      "Loading GluA2...\n",
      "Assigning Points to Spines...\n",
      "Starting clustering...\n"
     ]
    },
    {
     "name": "stderr",
     "output_type": "stream",
     "text": [
      "Clustering progress: 100%|██████████| 200/200 [00:01<00:00, 149.00spine/s]\n"
     ]
    },
    {
     "name": "stdout",
     "output_type": "stream",
     "text": [
      "Clustering completed.\n",
      "Filtered 50 Spines, Finding 0 Good Spines\n",
      "Loading Life Act...\n",
      "Loading Starplane and Labels ROI...\n",
      "Creating Spines from Starplane...\n",
      "Loading Homer Centers...\n",
      "Loading GluA2...\n",
      "Assigning Points to Spines...\n",
      "Starting clustering...\n"
     ]
    },
    {
     "name": "stderr",
     "output_type": "stream",
     "text": [
      "Clustering progress: 100%|██████████| 228/228 [00:01<00:00, 194.10spine/s]\n"
     ]
    },
    {
     "name": "stdout",
     "output_type": "stream",
     "text": [
      "Clustering completed.\n",
      "Filtered 57 Spines, Finding 18 Good Spines\n",
      "Loading Life Act...\n",
      "Loading Starplane and Labels ROI...\n",
      "Creating Spines from Starplane...\n",
      "Loading Homer Centers...\n",
      "Loading GluA2...\n",
      "Assigning Points to Spines...\n",
      "Starting clustering...\n"
     ]
    },
    {
     "name": "stderr",
     "output_type": "stream",
     "text": [
      "Clustering progress: 100%|██████████| 180/180 [00:00<00:00, 247.72spine/s]\n"
     ]
    },
    {
     "name": "stdout",
     "output_type": "stream",
     "text": [
      "Clustering completed.\n",
      "Filtered 45 Spines, Finding 6 Good Spines\n",
      "Loading Life Act...\n",
      "Loading Starplane and Labels ROI...\n",
      "Creating Spines from Starplane...\n",
      "Loading Homer Centers...\n",
      "Loading GluA2...\n",
      "Assigning Points to Spines...\n",
      "Starting clustering...\n"
     ]
    },
    {
     "name": "stderr",
     "output_type": "stream",
     "text": [
      "Clustering progress: 100%|██████████| 268/268 [00:06<00:00, 38.73spine/s]\n"
     ]
    },
    {
     "name": "stdout",
     "output_type": "stream",
     "text": [
      "Clustering completed.\n",
      "Filtered 67 Spines, Finding 16 Good Spines\n",
      "Loading Life Act...\n",
      "Loading Starplane and Labels ROI...\n",
      "Creating Spines from Starplane...\n",
      "Loading Homer Centers...\n",
      "Loading GluA2...\n",
      "Assigning Points to Spines...\n",
      "Starting clustering...\n"
     ]
    },
    {
     "name": "stderr",
     "output_type": "stream",
     "text": [
      "Clustering progress: 100%|██████████| 300/300 [00:07<00:00, 37.63spine/s]\n"
     ]
    },
    {
     "name": "stdout",
     "output_type": "stream",
     "text": [
      "Clustering completed.\n",
      "Filtered 75 Spines, Finding 43 Good Spines\n"
     ]
    }
   ],
   "source": [
    "Tau_D_7xR3 = 150.32\n",
    "Tau_D_16xR1 = 97\n",
    "\n",
    "path_list_GLUA1_7xR3 = [\"0317_B2_\", \"0317_B3_\", \"0317_C1_\", \"0522_B1_\", \"0522_B2_\", \"1123_B1_\", \"1123_B2_\"]\n",
    "path_list_GLUA2_7xR3 = [\"0317_A1_\", \"0317_D1_\", \"0317_D2_\", \"0522_A1_\", \"1027_A1_\", \"1218_A1_\"]\n",
    "path_list_GLUA1_16xR1 = [\"0317_A1_\", \"0317_D1_\", \"0317_D2_\", \"0522_A1_\", \"1027_A1_\", \"1218_A1_\"]\n",
    "path_list_GLUA2_16xR1 = [\"0317_B2_\", \"0317_B3_\", \"0317_C1_\", \"0522_B1_\", \"0522_B2_\", \"1123_B1_\", \"1123_B2_\"]\n",
    "path_lists = [path_list_GLUA1_7xR3, path_list_GLUA2_7xR3, path_list_GLUA1_16xR1, path_list_GLUA2_16xR1]\n",
    "point_wrappers = [[\"Data/7xR3/\", \"GluA1\", \"_corrected.csv\", Tau_D_7xR3], [\"Data/7xR3/\", \"GluA2\", \"_corrected.csv\", Tau_D_7xR3], \n",
    "                  [\"Data/16xR1/\", \"GluA1\", \"_corrected.csv\", Tau_D_16xR1], [\"Data/16xR1/\", \"GluA2\", \"_corrected.csv\", Tau_D_16xR1]]\n",
    "FOVs = [[],[],[],[]]\n",
    "\n",
    "for i in range(len(FOVs)):\n",
    "    path_list = path_lists[i]\n",
    "    FOV_list = FOVs[i]\n",
    "    for path in path_list:\n",
    "        homer_path = \"Data/Homer/\" + path + \"aHomer_corrected.csv\"\n",
    "        life_act_path = \"Data/LifeAct/\" + path + \"Composite.tif\"\n",
    "        starplane_path = \"Data/Spines/\" + path + \"spines_starplane.npy\"\n",
    "        labels_roi_path = \"Data/Spines/\" + path + \"spines_labels_roi.json\"\n",
    "        point_path = point_wrappers[i][0] + path + point_wrappers[i][1] + point_wrappers[i][2]\n",
    "        points_data = [[point_wrappers[i][1], point_path, 'white', time_per_frame, point_wrappers[i][3]]]\n",
    "        cluster_algorithms = [ClusteringAlgorithm(nth_neighbor_hdbscan_function_generator(30, 30/nm_per_pixel), point_wrappers[i][1]),\n",
    "                              ClusteringAlgorithm(nth_neighbor_hdbscan_function_generator(40, 30/nm_per_pixel), point_wrappers[i][1]),\n",
    "                              ClusteringAlgorithm(nth_neighbor_hdbscan_function_generator(40, 70/nm_per_pixel), point_wrappers[i][1]),\n",
    "                              ClusteringAlgorithm(nth_neighbor_hdbscan_function_generator(50, 70/nm_per_pixel), point_wrappers[i][1])]\n",
    "        FOV = FieldOfView(homer_centers=homer_path, \n",
    "                  life_act=life_act_path,\n",
    "                  starplane_file=starplane_path,\n",
    "                  labels_roi_file=labels_roi_path,\n",
    "                  nm_per_pixel=nm_per_pixel,\n",
    "                  points=points_data, \n",
    "                  cluster_algorithms=cluster_algorithms, \n",
    "                  to_print=True,\n",
    "                  filter_spines=True)\n",
    "        FOV_list.append(FOV)"
   ]
  },
  {
   "cell_type": "code",
   "execution_count": 8,
   "id": "7b513031",
   "metadata": {},
   "outputs": [
    {
     "ename": "KeyError",
     "evalue": "ClusteringAlgorithm(label=238)",
     "output_type": "error",
     "traceback": [
      "\u001b[1;31m---------------------------------------------------------------------------\u001b[0m",
      "\u001b[1;31mKeyError\u001b[0m                                  Traceback (most recent call last)",
      "Cell \u001b[1;32mIn[8], line 14\u001b[0m\n\u001b[0;32m     12\u001b[0m     spine\u001b[38;5;241m.\u001b[39mplot(algs\u001b[38;5;241m=\u001b[39mcluster_alg, life_act\u001b[38;5;241m=\u001b[39mFOV\u001b[38;5;241m.\u001b[39mlife_act, Points\u001b[38;5;241m=\u001b[39mspine\u001b[38;5;241m.\u001b[39mpoints[point_label])\n\u001b[0;32m     13\u001b[0m \u001b[38;5;28;01mif\u001b[39;00m plot_clusters:\n\u001b[1;32m---> 14\u001b[0m     \u001b[38;5;28;01mfor\u001b[39;00m cluster \u001b[38;5;129;01min\u001b[39;00m \u001b[43mspine\u001b[49m\u001b[38;5;241;43m.\u001b[39;49m\u001b[43mclusters\u001b[49m\u001b[43m[\u001b[49m\u001b[43mcluster_alg\u001b[49m\u001b[43m]\u001b[49m:\n\u001b[0;32m     15\u001b[0m         cluster\u001b[38;5;241m.\u001b[39mplot_frames_cdf()\n",
      "\u001b[1;31mKeyError\u001b[0m: ClusteringAlgorithm(label=238)"
     ]
    }
   ],
   "source": [
    "### Plot Clusters in Spines\n",
    "FOV = FOVs[0][0]\n",
    "cluster_alg = cluster_algorithms[1]\n",
    "point_label = 'GluA2'\n",
    "\n",
    "plot_spines = False\n",
    "plot_clusters = True\n",
    "for idx in range(len(FOV.Spines)):\n",
    "    spine = FOV.Spines[idx]\n",
    "\n",
    "    if plot_spines:\n",
    "        spine.plot(algs=cluster_alg, life_act=FOV.life_act, Points=spine.points[point_label])\n",
    "    if plot_clusters:\n",
    "        for cluster in spine.clusters[cluster_alg]:\n",
    "            cluster.plot_frames_cdf()"
   ]
  },
  {
   "cell_type": "code",
   "execution_count": null,
   "id": "b2420938",
   "metadata": {},
   "outputs": [],
   "source": []
  }
 ],
 "metadata": {
  "celltoolbar": "Initialization Cell",
  "kernelspec": {
   "display_name": "Python 3 (ipykernel)",
   "language": "python",
   "name": "python3"
  },
  "language_info": {
   "codemirror_mode": {
    "name": "ipython",
    "version": 3
   },
   "file_extension": ".py",
   "mimetype": "text/x-python",
   "name": "python",
   "nbconvert_exporter": "python",
   "pygments_lexer": "ipython3",
   "version": "3.9.19"
  },
  "toc": {
   "base_numbering": 1,
   "nav_menu": {},
   "number_sections": true,
   "sideBar": true,
   "skip_h1_title": false,
   "title_cell": "Table of Contents",
   "title_sidebar": "Contents",
   "toc_cell": false,
   "toc_position": {},
   "toc_section_display": true,
   "toc_window_display": false
  },
  "varInspector": {
   "cols": {
    "lenName": 16,
    "lenType": 16,
    "lenVar": 40
   },
   "kernels_config": {
    "python": {
     "delete_cmd_postfix": "",
     "delete_cmd_prefix": "del ",
     "library": "var_list.py",
     "varRefreshCmd": "print(var_dic_list())"
    },
    "r": {
     "delete_cmd_postfix": ") ",
     "delete_cmd_prefix": "rm(",
     "library": "var_list.r",
     "varRefreshCmd": "cat(var_dic_list()) "
    }
   },
   "types_to_exclude": [
    "module",
    "function",
    "builtin_function_or_method",
    "instance",
    "_Feature"
   ],
   "window_display": false
  }
 },
 "nbformat": 4,
 "nbformat_minor": 5
}
